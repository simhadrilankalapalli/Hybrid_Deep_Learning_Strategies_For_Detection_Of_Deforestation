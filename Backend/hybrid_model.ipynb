{
 "cells": [
  {
   "cell_type": "code",
   "execution_count": 1,
   "metadata": {},
   "outputs": [
    {
     "name": "stdout",
     "output_type": "stream",
     "text": [
      "Found 1784 images belonging to 2 classes.\n",
      "Found 445 images belonging to 2 classes.\n",
      "Found 1496 images belonging to 2 classes.\n"
     ]
    }
   ],
   "source": [
    "import tensorflow as tf\n",
    "from tensorflow.keras.preprocessing.image import ImageDataGenerator\n",
    "# Initialize the data generator with augmentation options\n",
    "datagen = ImageDataGenerator(\n",
    "    rescale=1./255,  # Normalize the images to [0, 1]\n",
    "    rotation_range=40,\n",
    "    width_shift_range=0.2,\n",
    "    height_shift_range=0.2,\n",
    "    shear_range=0.2,\n",
    "    zoom_range=0.2,\n",
    "    horizontal_flip=True,\n",
    "    fill_mode='nearest',\n",
    "    validation_split=0.2\n",
    ")\n",
    "\n",
    "train_generator = datagen.flow_from_directory(\n",
    "    r'dataset\\train',\n",
    "    target_size=(224, 224),  # Depending on the model architecture\n",
    "    batch_size=32,\n",
    "    class_mode='categorical',\n",
    "    subset=\"training\"\n",
    ")\n",
    "validation_generator = datagen.flow_from_directory(\n",
    "    r'dataset\\train',\n",
    "    target_size=(224, 224),  # Depending on the model architecture\n",
    "    batch_size=32,\n",
    "    class_mode='categorical',\n",
    "    subset=\"validation\"\n",
    ")\n",
    "test_datagen=ImageDataGenerator(rescale=1./255)\n",
    "test_generator = test_datagen.flow_from_directory(\n",
    "    r'dataset\\test',\n",
    "    target_size=(224, 224),  # Depending on the model architecture\n",
    "    batch_size=32,\n",
    "    class_mode='categorical'\n",
    ")"
   ]
  },
  {
   "cell_type": "code",
   "execution_count": 2,
   "metadata": {},
   "outputs": [
    {
     "name": "stdout",
     "output_type": "stream",
     "text": [
      "\u001b[1m1/1\u001b[0m \u001b[32m━━━━━━━━━━━━━━━━━━━━\u001b[0m\u001b[37m\u001b[0m \u001b[1m1s\u001b[0m 1s/step\n",
      "\u001b[1m1/1\u001b[0m \u001b[32m━━━━━━━━━━━━━━━━━━━━\u001b[0m\u001b[37m\u001b[0m \u001b[1m1s\u001b[0m 658ms/step\n",
      "\u001b[1m1/1\u001b[0m \u001b[32m━━━━━━━━━━━━━━━━━━━━\u001b[0m\u001b[37m\u001b[0m \u001b[1m1s\u001b[0m 653ms/step\n",
      "\u001b[1m1/1\u001b[0m \u001b[32m━━━━━━━━━━━━━━━━━━━━\u001b[0m\u001b[37m\u001b[0m \u001b[1m1s\u001b[0m 659ms/step\n",
      "\u001b[1m1/1\u001b[0m \u001b[32m━━━━━━━━━━━━━━━━━━━━\u001b[0m\u001b[37m\u001b[0m \u001b[1m1s\u001b[0m 642ms/step\n",
      "\u001b[1m1/1\u001b[0m \u001b[32m━━━━━━━━━━━━━━━━━━━━\u001b[0m\u001b[37m\u001b[0m \u001b[1m1s\u001b[0m 706ms/step\n",
      "\u001b[1m1/1\u001b[0m \u001b[32m━━━━━━━━━━━━━━━━━━━━\u001b[0m\u001b[37m\u001b[0m \u001b[1m1s\u001b[0m 673ms/step\n",
      "\u001b[1m1/1\u001b[0m \u001b[32m━━━━━━━━━━━━━━━━━━━━\u001b[0m\u001b[37m\u001b[0m \u001b[1m1s\u001b[0m 674ms/step\n",
      "\u001b[1m1/1\u001b[0m \u001b[32m━━━━━━━━━━━━━━━━━━━━\u001b[0m\u001b[37m\u001b[0m \u001b[1m1s\u001b[0m 709ms/step\n"
     ]
    }
   ],
   "source": [
    "from tensorflow.keras.applications import MobileNet\n",
    "from tensorflow.keras.models import Model\n",
    "from tensorflow.keras.layers import GlobalAveragePooling2D\n",
    "import numpy as np \n",
    "\n",
    "# Load the base model\n",
    "base_model = MobileNet(weights='imagenet', include_top=False, input_shape=(224, 224, 3))\n",
    "base_model.trainable = False\n",
    "\n",
    "# Add a global spatial average pooling layer\n",
    "x = base_model.output\n",
    "x = GlobalAveragePooling2D()(x)\n",
    "model = Model(inputs=base_model.input, outputs=x)\n",
    "\n",
    "def extract_features(generator, sample_count):\n",
    "    # Assuming the model's output is 1024-dimensional features\n",
    "    # Initialize arrays to hold the extracted features and labels.\n",
    "    # Note: We use None for flexible sizing in the features' first dimension.\n",
    "    features = np.zeros((0, 1024))  # Adjust 1024 if a different model output size is expected\n",
    "    labels = np.zeros((0,))\n",
    "    \n",
    "    # Keep track of the number of samples processed\n",
    "    processed_samples = 0\n",
    "    \n",
    "    for inputs_batch, labels_batch in generator:\n",
    "        # Ensure not to process more than the sample_count\n",
    "        if processed_samples < sample_count:\n",
    "            # Predict features for the current batch of images\n",
    "            features_batch = model.predict(inputs_batch)\n",
    "            actual_batch_size = features_batch.shape[0]\n",
    "            \n",
    "            # Update the total number of processed samples\n",
    "            processed_samples += actual_batch_size\n",
    "            \n",
    "            # Append the predicted features and the true labels to their respective arrays\n",
    "            features = np.append(features, features_batch, axis=0)\n",
    "            labels = np.append(labels, np.argmax(labels_batch, axis=1), axis=0)\n",
    "            \n",
    "            # If we've processed enough samples, break from the loop\n",
    "            if processed_samples >= sample_count:\n",
    "                break\n",
    "        else:\n",
    "            break\n",
    "    \n",
    "    # If we've processed more samples than needed, truncate the arrays\n",
    "    if processed_samples > sample_count:\n",
    "        features = features[:sample_count]\n",
    "        labels = labels[:sample_count]\n",
    "    \n",
    "    return features, labels\n",
    "\n",
    "train_features, train_labels = extract_features(train_generator, 200) # Adjust 200 to actual size\n",
    "validation_features, validation_labels = extract_features(validation_generator, 50) # Adjust 50 to actual size\n"
   ]
  },
  {
   "cell_type": "code",
   "execution_count": 3,
   "metadata": {},
   "outputs": [
    {
     "name": "stderr",
     "output_type": "stream",
     "text": [
      "WARNING:absl:You are saving your model as an HDF5 file via `model.save()` or `keras.saving.save_model(model)`. This file format is considered legacy. We recommend using instead the native Keras format, e.g. `model.save('my_model.keras')` or `keras.saving.save_model(model, 'my_model.keras')`. \n"
     ]
    }
   ],
   "source": [
    "model.save(\"feature_extractor.h5\")"
   ]
  },
  {
   "cell_type": "code",
   "execution_count": 4,
   "metadata": {},
   "outputs": [
    {
     "name": "stdout",
     "output_type": "stream",
     "text": [
      "Validation Accuracy:  0.94\n",
      "Classification Report:\n",
      "               precision    recall  f1-score   support\n",
      "\n",
      "         0.0       0.93      0.97      0.95        29\n",
      "         1.0       0.95      0.90      0.93        21\n",
      "\n",
      "    accuracy                           0.94        50\n",
      "   macro avg       0.94      0.94      0.94        50\n",
      "weighted avg       0.94      0.94      0.94        50\n",
      "\n"
     ]
    }
   ],
   "source": [
    "from sklearn.ensemble import RandomForestClassifier\n",
    "from sklearn.metrics import accuracy_score, classification_report, confusion_matrix\n",
    "\n",
    "# Create and train the Random Forest\n",
    "rf = RandomForestClassifier(n_estimators=100, random_state=42)\n",
    "rf.fit(train_features, train_labels)\n",
    "\n",
    "# Predict on the validation set\n",
    "validation_predictions = rf.predict(validation_features)\n",
    "\n",
    "# Evaluate the model\n",
    "print(\"Validation Accuracy: \", accuracy_score(validation_labels, validation_predictions))\n",
    "print(\"Classification Report:\\n\", classification_report(validation_labels, validation_predictions))\n"
   ]
  },
  {
   "cell_type": "code",
   "execution_count": 5,
   "metadata": {},
   "outputs": [
    {
     "data": {
      "text/plain": [
       "array([[28,  1],\n",
       "       [ 2, 19]], dtype=int64)"
      ]
     },
     "execution_count": 5,
     "metadata": {},
     "output_type": "execute_result"
    }
   ],
   "source": [
    "confusion_matrix(validation_labels, validation_predictions)"
   ]
  },
  {
   "cell_type": "code",
   "execution_count": 14,
   "metadata": {},
   "outputs": [
    {
     "data": {
      "image/png": "[encoded data removed]",
      "text/plain": [
       "<Figure size 1000x700 with 2 Axes>"
      ]
     },
     "metadata": {},
     "output_type": "display_data"
    }
   ],
   "source": [
    "import numpy as np\n",
    "import matplotlib.pyplot as plt\n",
    "import seaborn as sns\n",
    "from sklearn.metrics import confusion_matrix\n",
    "\n",
    "# Compute confusion matrix\n",
    "cm = confusion_matrix(validation_labels, validation_predictions)\n",
    "\n",
    "# Plot confusion matrix\n",
    "plt.figure(figsize=(10, 7))\n",
    "sns.heatmap(cm, annot=True, fmt='d', cmap='Blues', \n",
    "            xticklabels=['deforestation', 'forest'], \n",
    "            yticklabels=['deforestation', 'forest'])\n",
    "plt.xlabel('Predicted Labels')\n",
    "plt.ylabel('True Labels')\n",
    "plt.title('Confusion Matrix')\n",
    "plt.show()\n"
   ]
  },
  {
   "cell_type": "code",
   "execution_count": 6,
   "metadata": {},
   "outputs": [
    {
     "data": {
      "text/plain": [
       "['rf_model.pkl']"
      ]
     },
     "execution_count": 6,
     "metadata": {},
     "output_type": "execute_result"
    }
   ],
   "source": [
    "import joblib\n",
    "joblib.dump(rf, 'rf_model.pkl')"
   ]
  },
  {
   "cell_type": "code",
   "execution_count": 12,
   "metadata": {},
   "outputs": [
    {
     "name": "stderr",
     "output_type": "stream",
     "text": [
      "WARNING:absl:No training configuration found in the save file, so the model was *not* compiled. Compile it manually.\n"
     ]
    },
    {
     "name": "stdout",
     "output_type": "stream",
     "text": [
      "\u001b[1m1/1\u001b[0m \u001b[32m━━━━━━━━━━━━━━━━━━━━\u001b[0m\u001b[37m\u001b[0m \u001b[1m0s\u001b[0m 384ms/step\n",
      "The predicted class for the input image is: deforestation\n"
     ]
    }
   ],
   "source": [
    "import numpy as np\n",
    "import tensorflow as tf\n",
    "from tensorflow.keras.models import load_model\n",
    "from tensorflow.keras.preprocessing import image\n",
    "from sklearn.ensemble import RandomForestClassifier\n",
    "import joblib\n",
    "\n",
    "# Load the feature extractor model (MobileNet-based model)\n",
    "feature_extractor = load_model('feature_extractor.h5')\n",
    "\n",
    "# Load the trained Random Forest model\n",
    "rf_model = joblib.load('rf_model.pkl')\n",
    "\n",
    "# Define the class labels\n",
    "class_labels = ['deforestation', 'forest']\n",
    "\n",
    "# Function to preprocess the input image\n",
    "def preprocess_image(img_path):\n",
    "    # Load the image with target size as (224, 224) to match MobileNet input size\n",
    "    img = image.load_img(img_path, target_size=(224, 224))\n",
    "    # Convert the image to an array\n",
    "    img_array = image.img_to_array(img)\n",
    "    # Rescale the image by dividing by 255 (normalization)\n",
    "    img_array = img_array / 255.0\n",
    "    # Add a batch dimension since the model expects batches of images\n",
    "    img_array = np.expand_dims(img_array, axis=0)\n",
    "    return img_array\n",
    "\n",
    "# Function to predict the class of a single image\n",
    "def predict_single_image(img_path):\n",
    "    # Preprocess the input image\n",
    "    preprocessed_image = preprocess_image(img_path)\n",
    "    \n",
    "    # Extract features using the MobileNet-based feature extractor\n",
    "    features = feature_extractor.predict(preprocessed_image)\n",
    "    \n",
    "    # Predict the class using the Random Forest classifier\n",
    "    predicted_class_index = rf_model.predict(features)[0]\n",
    "    \n",
    "    # Convert the predicted class index to an integer (since it's a numpy.float64)\n",
    "    predicted_class_index = int(predicted_class_index)\n",
    "    \n",
    "    # Convert the class index to the class label\n",
    "    predicted_class_label = class_labels[predicted_class_index]\n",
    "    \n",
    "    return predicted_class_label\n",
    "\n",
    "# Test with an example image\n",
    "image_path = r'dataset\\test\\deforestation\\IMG_0_203.jpg'  # Replace with your image path\n",
    "predicted_class = predict_single_image(image_path)\n",
    "print(f'The predicted class for the input image is: {predicted_class}')\n"
   ]
  },
  {
   "cell_type": "code",
   "execution_count": null,
   "metadata": {},
   "outputs": [],
   "source": []
  }
 ],
 "metadata": {
  "kernelspec": {
   "display_name": "Python 3",
   "language": "python",
   "name": "python3"
  },
  "language_info": {
   "codemirror_mode": {
    "name": "ipython",
    "version": 3
   },
   "file_extension": ".py",
   "mimetype": "text/x-python",
   "name": "python",
   "nbconvert_exporter": "python",
   "pygments_lexer": "ipython3",
   "version": "3.10.8"
  }
 },
 "nbformat": 4,
 "nbformat_minor": 2
}
