{
 "cells": [
  {
   "cell_type": "code",
   "execution_count": 1,
   "metadata": {},
   "outputs": [],
   "source": [
    "# torch\n",
    "import torch\n",
    "import torch.nn as nn\n",
    "from torch.utils.data import Dataset, DataLoader\n",
    "import torchvision\n",
    "from torchvision.transforms import transforms\n",
    "import torch.optim as optim\n",
    "# utils\n",
    "import os\n",
    "from glob import glob\n",
    "from PIL import Image\n",
    "import numpy as np\n",
    "from sklearn.model_selection import train_test_split\n",
    "# visualization\n",
    "import matplotlib.pyplot as plt\n",
    "import seaborn as sns\n",
    "from sklearn.metrics import ConfusionMatrixDisplay, accuracy_score, confusion_matrix\n"
   ]
  },
  {
   "cell_type": "code",
   "execution_count": 3,
   "metadata": {},
   "outputs": [
    {
     "name": "stdout",
     "output_type": "stream",
     "text": [
      "cpu\n",
      "Total images: 458\n",
      "Training set size: 366\n",
      "Testing set size: 92\n"
     ]
    }
   ],
   "source": [
    "import torch\n",
    "import glob\n",
    "import os\n",
    "import random\n",
    "\n",
    "# Global variables\n",
    "device = \"cuda\" if torch.cuda.is_available() else \"cpu\"\n",
    "dataset_path = \"relevent or irrelevent\"\n",
    "image_size = (224, 224)\n",
    "num_classes = 2\n",
    "\n",
    "irrelevent_image_paths = glob.glob(os.path.join(dataset_path, \"irrelevent\", \"*.jpg\")) + glob.glob(os.path.join(dataset_path, \"irrelevent\", \"*.png\"))\n",
    "relevent_image_paths = glob.glob(os.path.join(dataset_path, \"relevent\", \"*.jpg\")) + glob.glob(os.path.join(dataset_path, \"relevent\", \"*.png\"))\n",
    "\n",
    "# Combine the paths and shuffle them\n",
    "image_paths = irrelevent_image_paths + relevent_image_paths\n",
    "random.shuffle(image_paths)\n",
    "\n",
    "# Split the image paths into train and test sets\n",
    "train_ratio = 0.8  # 80% for training, 20% for testing\n",
    "train_size = int(train_ratio * len(image_paths))\n",
    "train_paths = image_paths[:train_size]\n",
    "test_paths = image_paths[train_size:]\n",
    "\n",
    "# Check device\n",
    "print(device)\n",
    "\n",
    "# Print the number of images in each set for verification\n",
    "print(f\"Total images: {len(image_paths)}\")\n",
    "print(f\"Training set size: {len(train_paths)}\")\n",
    "print(f\"Testing set size: {len(test_paths)}\")\n"
   ]
  },
  {
   "cell_type": "code",
   "execution_count": 4,
   "metadata": {},
   "outputs": [],
   "source": [
    "# data augmentation\n",
    "train_transform = transforms.Compose([\n",
    "    transforms.RandomHorizontalFlip(),\n",
    "    transforms.RandomVerticalFlip(),\n",
    "    transforms.RandomRotation(10),\n",
    "    transforms.Resize(image_size),\n",
    "    transforms.ToTensor(),\n",
    "    transforms.Normalize(mean=[0.485, 0.456, 0.406], std=[0.229, 0.224, 0.225])\n",
    "])\n",
    "\n",
    "test_transform = transforms.Compose([\n",
    "    transforms.Resize(image_size),\n",
    "    transforms.ToTensor(),\n",
    "    transforms.Normalize(mean=[0.485, 0.456, 0.406], std=[0.229, 0.224, 0.225])\n",
    "])"
   ]
  },
  {
   "cell_type": "code",
   "execution_count": 5,
   "metadata": {},
   "outputs": [],
   "source": [
    "# custom dataset class\n",
    "class dataset(Dataset):\n",
    "    def __init__(self,paths,transform=None):\n",
    "        self.paths = paths\n",
    "        self.transform = transform\n",
    "        self.labels = [self.get_label(path) for path in self.paths]\n",
    "        self.labels_to_index = {label:index for index,label in enumerate(list(set(self.labels)))}\n",
    "    \n",
    "    def __getitem__(self,index):\n",
    "        img_path = self.paths[index]\n",
    "        img = Image.open(img_path).convert('RGB') \n",
    "        label = self.labels[index]\n",
    "        label_index = self.labels_to_index[label]\n",
    "        \n",
    "        if self.transform:\n",
    "            img = self.transform(img)\n",
    "        \n",
    "        return img, label_index,label\n",
    "    \n",
    "    \n",
    "    def __len__(self):\n",
    "        return len(self.paths)\n",
    "    \n",
    "    \n",
    "    def get_label(self, path):\n",
    "        return os.path.basename(os.path.dirname(path))"
   ]
  },
  {
   "cell_type": "code",
   "execution_count": 6,
   "metadata": {},
   "outputs": [],
   "source": [
    "train_dataset = dataset(train_paths, transform=train_transform)\n",
    "test_dataset = dataset(test_paths, transform=test_transform)\n",
    "val_dataset, test_dataset = train_test_split(test_dataset,test_size=0.5)"
   ]
  },
  {
   "cell_type": "code",
   "execution_count": 7,
   "metadata": {},
   "outputs": [],
   "source": [
    "train_loader = DataLoader(train_dataset, batch_size=32, shuffle=True)\n",
    "val_loader = DataLoader(val_dataset, batch_size=32, shuffle=False)\n",
    "test_loader = DataLoader(test_dataset, batch_size=32, shuffle=False)"
   ]
  },
  {
   "cell_type": "code",
   "execution_count": 8,
   "metadata": {},
   "outputs": [
    {
     "data": {
      "text/plain": [
       "<torch.utils.data.dataloader.DataLoader at 0x1aebd4a30a0>"
      ]
     },
     "execution_count": 8,
     "metadata": {},
     "output_type": "execute_result"
    }
   ],
   "source": [
    "val_loader"
   ]
  },
  {
   "cell_type": "code",
   "execution_count": 9,
   "metadata": {},
   "outputs": [
    {
     "name": "stderr",
     "output_type": "stream",
     "text": [
      "C:\\Users\\0871\\AppData\\Roaming\\Python\\Python310\\site-packages\\torchvision\\models\\_utils.py:208: UserWarning: The parameter 'pretrained' is deprecated since 0.13 and may be removed in the future, please use 'weights' instead.\n",
      "  warnings.warn(\n",
      "C:\\Users\\0871\\AppData\\Roaming\\Python\\Python310\\site-packages\\torchvision\\models\\_utils.py:223: UserWarning: Arguments other than a weight enum or `None` for 'weights' are deprecated since 0.13 and may be removed in the future. The current behavior is equivalent to passing `weights=MobileNet_V2_Weights.IMAGENET1K_V1`. You can also use `weights=MobileNet_V2_Weights.DEFAULT` to get the most up-to-date weights.\n",
      "  warnings.warn(msg)\n"
     ]
    },
    {
     "name": "stdout",
     "output_type": "stream",
     "text": [
      "Epoch 1: Train Loss: 0.1608, Train Acc: 94.26%, Val Loss: 0.0074, Val Acc: 100.00%\n",
      "Epoch 2: Train Loss: 0.0087, Train Acc: 100.00%, Val Loss: 0.0006, Val Acc: 100.00%\n",
      "Epoch 3: Train Loss: 0.0028, Train Acc: 100.00%, Val Loss: 0.0001, Val Acc: 100.00%\n",
      "Epoch 4: Train Loss: 0.0158, Train Acc: 99.73%, Val Loss: 0.0002, Val Acc: 100.00%\n",
      "Epoch 5: Train Loss: 0.0187, Train Acc: 99.18%, Val Loss: 0.0002, Val Acc: 100.00%\n"
     ]
    },
    {
     "data": {
      "image/png": "[encoded data removed]",
      "text/plain": [
       "<Figure size 640x480 with 2 Axes>"
      ]
     },
     "metadata": {},
     "output_type": "display_data"
    },
    {
     "name": "stdout",
     "output_type": "stream",
     "text": [
      "Classification Report:\n",
      "              precision    recall  f1-score   support\n",
      "\n",
      "           0       1.00      1.00      1.00        24\n",
      "           1       1.00      1.00      1.00        22\n",
      "\n",
      "    accuracy                           1.00        46\n",
      "   macro avg       1.00      1.00      1.00        46\n",
      "weighted avg       1.00      1.00      1.00        46\n",
      "\n"
     ]
    }
   ],
   "source": [
    "import torch\n",
    "import torch.nn as nn\n",
    "import torch.optim as optim\n",
    "from torchvision import models\n",
    "from torch.utils.data import DataLoader\n",
    "import matplotlib.pyplot as plt\n",
    "from sklearn.metrics import confusion_matrix, ConfusionMatrixDisplay, classification_report\n",
    "\n",
    "\n",
    "# Model definition\n",
    "class MobileNetModel(nn.Module):\n",
    "    def __init__(self, num_classes):\n",
    "        super(MobileNetModel, self).__init__()\n",
    "        self.mobilenet = models.mobilenet_v2(pretrained=True)\n",
    "        num_features = self.mobilenet.classifier[1].in_features\n",
    "        self.mobilenet.classifier[1] = nn.Linear(num_features, num_classes)\n",
    "\n",
    "    def forward(self, x):\n",
    "        return self.mobilenet(x)\n",
    "\n",
    "# Initialize the model, loss, and optimizer\n",
    "device = torch.device(\"cuda\" if torch.cuda.is_available() else \"cpu\")\n",
    "model = MobileNetModel(num_classes=2).to(device)  # Set num_classes appropriately\n",
    "criterion = nn.CrossEntropyLoss()\n",
    "optimizer = optim.Adam(model.parameters(), lr=0.0002)\n",
    "\n",
    "def train_epoch():\n",
    "    model.train()\n",
    "    running_loss = 0.0\n",
    "    correct_predictions = 0\n",
    "    total_predictions = 0\n",
    "\n",
    "    for batch in train_loader:\n",
    "        data = batch[0].to(device)\n",
    "        labels = batch[1].to(device)\n",
    "        optimizer.zero_grad()\n",
    "        outputs = model(data)\n",
    "        loss = criterion(outputs, labels)\n",
    "        loss.backward()\n",
    "        optimizer.step()\n",
    "\n",
    "        running_loss += loss.item()\n",
    "        _, preds = torch.max(outputs, 1)\n",
    "        correct_predictions += (preds == labels).sum().item()\n",
    "        total_predictions += labels.size(0)\n",
    "\n",
    "    avg_loss = running_loss / len(train_loader)\n",
    "    accuracy = correct_predictions / total_predictions\n",
    "    return avg_loss, accuracy\n",
    "\n",
    "def eval_model(loader):\n",
    "    model.eval()\n",
    "    running_loss = 0.0\n",
    "    correct_predictions = 0\n",
    "    total_predictions = 0\n",
    "\n",
    "    with torch.no_grad():\n",
    "        for batch in loader:\n",
    "            data = batch[0].to(device)\n",
    "            labels = batch[1].to(device)\n",
    "            outputs = model(data)\n",
    "            loss = criterion(outputs, labels)\n",
    "\n",
    "            running_loss += loss.item()\n",
    "            _, preds = torch.max(outputs, 1)\n",
    "            correct_predictions += (preds == labels).sum().item()\n",
    "            total_predictions += labels.size(0)\n",
    "\n",
    "    avg_loss = running_loss / len(loader)\n",
    "    accuracy = correct_predictions / total_predictions\n",
    "    return avg_loss, accuracy\n",
    "\n",
    "# Main training loop\n",
    "best_score = float(\"inf\")\n",
    "n_epochs = 5\n",
    "tolerance = 0\n",
    "\n",
    "for epoch in range(n_epochs):\n",
    "    train_loss, train_acc = train_epoch()\n",
    "    val_loss, val_acc = eval_model(val_loader)\n",
    "\n",
    "    if val_loss < best_score:\n",
    "        best_score = val_loss\n",
    "        torch.save(model.state_dict(), \"mobilenet_irrelevent.pt\")\n",
    "        tolerance = 0\n",
    "    else:\n",
    "        tolerance += 1\n",
    "        if tolerance >= 8:\n",
    "            break\n",
    "\n",
    "    print(f\"Epoch {epoch+1}: Train Loss: {train_loss:.4f}, Train Acc: {train_acc*100:.2f}%, \"\n",
    "          f\"Val Loss: {val_loss:.4f}, Val Acc: {val_acc*100:.2f}%\")\n",
    "\n",
    "# Generate predictions and true labels\n",
    "all_preds, all_labels = [], []\n",
    "model.eval()\n",
    "with torch.no_grad():\n",
    "    for batch in val_loader:\n",
    "        data = batch[0].to(device)\n",
    "        labels = batch[1].to(device)\n",
    "        outputs = model(data)\n",
    "        _, preds = torch.max(outputs, 1)\n",
    "        all_preds.extend(preds.cpu().numpy())\n",
    "        all_labels.extend(labels.cpu().numpy())\n",
    "\n",
    "# Compute confusion matrix\n",
    "cm = confusion_matrix(all_labels, all_preds)\n",
    "disp = ConfusionMatrixDisplay(confusion_matrix=cm)\n",
    "disp.plot(cmap=plt.cm.Blues)\n",
    "plt.title(\"Confusion Matrix for MobileNet\")\n",
    "plt.show()\n",
    "\n",
    "# Print classification report\n",
    "print(\"Classification Report:\")\n",
    "print(classification_report(all_labels, all_preds))\n"
   ]
  },
  {
   "cell_type": "code",
   "execution_count": 14,
   "metadata": {},
   "outputs": [
    {
     "name": "stdout",
     "output_type": "stream",
     "text": [
      "The predicted label for the image is: relevent\n"
     ]
    },
    {
     "name": "stderr",
     "output_type": "stream",
     "text": [
      "C:\\Users\\0871\\AppData\\Local\\Temp\\ipykernel_4204\\3832411324.py:29: FutureWarning: You are using `torch.load` with `weights_only=False` (the current default value), which uses the default pickle module implicitly. It is possible to construct malicious pickle data which will execute arbitrary code during unpickling (See https://github.com/pytorch/pytorch/blob/main/SECURITY.md#untrusted-models for more details). In a future release, the default value for `weights_only` will be flipped to `True`. This limits the functions that could be executed during unpickling. Arbitrary objects will no longer be allowed to be loaded via this mode unless they are explicitly allowlisted by the user via `torch.serialization.add_safe_globals`. We recommend you start setting `weights_only=True` for any use case where you don't have full control of the loaded file. Please open an issue on GitHub for any issues related to this experimental feature.\n",
      "  model.load_state_dict(torch.load(\"mobilenet_irrelevent.pt\"))\n"
     ]
    }
   ],
   "source": [
    "import torch\n",
    "from torchvision import transforms\n",
    "from PIL import Image\n",
    "import os\n",
    "\n",
    "# Device configuration\n",
    "device = torch.device(\"cuda\" if torch.cuda.is_available() else \"cpu\")\n",
    "\n",
    "# Image transformations\n",
    "image_transform = transforms.Compose([\n",
    "    transforms.Resize((224, 224)),\n",
    "    transforms.ToTensor(),\n",
    "    transforms.Normalize(mean=[0.485, 0.456, 0.406], std=[0.229, 0.224, 0.225])\n",
    "])\n",
    "\n",
    "# Define the model class (same as the one used during training)\n",
    "class MobileNetModel(nn.Module):\n",
    "    def __init__(self, num_classes):\n",
    "        super(MobileNetModel, self).__init__()\n",
    "        self.mobilenet = models.mobilenet_v2(pretrained=True)\n",
    "        num_features = self.mobilenet.classifier[1].in_features\n",
    "        self.mobilenet.classifier[1] = nn.Linear(num_features, num_classes)\n",
    "\n",
    "    def forward(self, x):\n",
    "        return self.mobilenet(x)\n",
    "\n",
    "# Load the trained model\n",
    "model = MobileNetModel(num_classes=2)\n",
    "model.load_state_dict(torch.load(\"mobilenet_irrelevent.pt\"))\n",
    "model = model.to(device)\n",
    "model.eval()\n",
    "\n",
    "# Function to predict image relevance\n",
    "def predict_image(image_path):\n",
    "    # Load and preprocess the image\n",
    "    image = Image.open(image_path).convert('RGB')\n",
    "    image = image_transform(image).unsqueeze(0)  # Add batch dimension\n",
    "    image = image.to(device)\n",
    "\n",
    "    # Perform the prediction\n",
    "    with torch.no_grad():\n",
    "        output = model(image)\n",
    "        _, predicted = torch.max(output, 1)\n",
    "\n",
    "    return predicted.item()\n",
    "\n",
    "# Helper function to map the prediction to label\n",
    "def map_prediction_to_label(prediction):\n",
    "    label_mapping = {0: \"irrelevent\", 1: \"relevent\"}\n",
    "    return label_mapping.get(prediction, \"Unknown\")\n",
    "\n",
    "# Example usage\n",
    "image_path = r\"relevent or irrelevent\\relevent\\IMG_0_96.jpg\"\n",
    "prediction = predict_image(image_path)\n",
    "predicted_label = map_prediction_to_label(prediction)\n",
    "\n",
    "print(f\"The predicted label for the image is: {predicted_label}\")\n"
   ]
  },
  {
   "cell_type": "code",
   "execution_count": null,
   "metadata": {},
   "outputs": [],
   "source": []
  }
 ],
 "metadata": {
  "kernelspec": {
   "display_name": "Python 3",
   "language": "python",
   "name": "python3"
  },
  "language_info": {
   "codemirror_mode": {
    "name": "ipython",
    "version": 3
   },
   "file_extension": ".py",
   "mimetype": "text/x-python",
   "name": "python",
   "nbconvert_exporter": "python",
   "pygments_lexer": "ipython3",
   "version": "3.10.8"
  }
 },
 "nbformat": 4,
 "nbformat_minor": 2
}
